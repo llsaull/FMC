{
 "cells": [
  {
   "cell_type": "markdown",
   "metadata": {
    "collapsed": true
   },
   "source": [
    "# Execício 01\n",
    "\n",
    "Esse é um exemplo de solução da lista. \n",
    "\n",
    "Nestas células de \"Markdown\" você pode adicionar textos e equações matemáticas em forma \"display\":\n",
    "$$\n",
    "     \\frac{d}{dx} f(x) = 2x + C,\n",
    "$$\n",
    "e também simbolos matemáticos dentro do texto $\\sigma$.\n",
    "\n",
    "Códigos em python podem ser inseridos em células diferentes marcadas para \"Code\", como ilustado abaixo:"
   ]
  },
  {
   "cell_type": "code",
   "execution_count": 3,
   "metadata": {},
   "outputs": [
    {
     "name": "stdout",
     "output_type": "stream",
     "text": [
      "Solução 01: 2*x\n",
      "Solução 02: x**3/3\n"
     ]
    }
   ],
   "source": [
    "import sympy as sp\n",
    "\n",
    "x, a, b = sp.symbols(\"x a b\")\n",
    "\n",
    "# Derivada\n",
    "print(\"Solução 01:\",sp.diff(x**2,x))\n",
    "\n",
    "# Integral\n",
    "print(\"Solução 02:\",sp.integrate(x**2,x))"
   ]
  },
  {
   "cell_type": "markdown",
   "metadata": {},
   "source": [
    "Aperte Ctrl+Enter rodar o seu código. \n",
    "\n",
    "Na hora de enviar a sua solução, gere o PDF (vá em File $\\rightarrow$ PDF via Latex). \n",
    "Somente serão aceitos as soluções em PDF. Soluções em outros formatos (incluindo ipynb) não serão aceitas.\n"
   ]
  },
  {
   "cell_type": "code",
   "execution_count": null,
   "metadata": {},
   "outputs": [],
   "source": []
  }
 ],
 "metadata": {
  "kernelspec": {
   "display_name": "Python 3",
   "language": "python",
   "name": "python3"
  },
  "language_info": {
   "codemirror_mode": {
    "name": "ipython",
    "version": 3
   },
   "file_extension": ".py",
   "mimetype": "text/x-python",
   "name": "python",
   "nbconvert_exporter": "python",
   "pygments_lexer": "ipython3",
   "version": "3.7.4"
  }
 },
 "nbformat": 4,
 "nbformat_minor": 2
}
